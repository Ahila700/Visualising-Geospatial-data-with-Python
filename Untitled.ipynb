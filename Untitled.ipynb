{
 "cells": [
  {
   "cell_type": "code",
   "execution_count": 8,
   "metadata": {},
   "outputs": [],
   "source": [
    "import numpy as np\n",
    "import pandas as pd\n",
    "import matplotlib.pyplot as plt\n",
    "%matplotlib inline"
   ]
  },
  {
   "cell_type": "code",
   "execution_count": 9,
   "metadata": {},
   "outputs": [],
   "source": [
    "data = pd.read_csv('Indicators.csv')"
   ]
  },
  {
   "cell_type": "code",
   "execution_count": 10,
   "metadata": {},
   "outputs": [],
   "source": [
    "import folium"
   ]
  },
  {
   "cell_type": "code",
   "execution_count": 11,
   "metadata": {},
   "outputs": [
    {
     "data": {
      "text/html": [
       "<div>\n",
       "<style scoped>\n",
       "    .dataframe tbody tr th:only-of-type {\n",
       "        vertical-align: middle;\n",
       "    }\n",
       "\n",
       "    .dataframe tbody tr th {\n",
       "        vertical-align: top;\n",
       "    }\n",
       "\n",
       "    .dataframe thead th {\n",
       "        text-align: right;\n",
       "    }\n",
       "</style>\n",
       "<table border=\"1\" class=\"dataframe\">\n",
       "  <thead>\n",
       "    <tr style=\"text-align: right;\">\n",
       "      <th></th>\n",
       "      <th>CountryName</th>\n",
       "      <th>CountryCode</th>\n",
       "      <th>IndicatorName</th>\n",
       "      <th>IndicatorCode</th>\n",
       "      <th>Year</th>\n",
       "      <th>Value</th>\n",
       "    </tr>\n",
       "  </thead>\n",
       "  <tbody>\n",
       "    <tr>\n",
       "      <th>5656453</th>\n",
       "      <td>Zimbabwe</td>\n",
       "      <td>ZWE</td>\n",
       "      <td>Time required to register property (days)</td>\n",
       "      <td>IC.PRP.DURS</td>\n",
       "      <td>2015</td>\n",
       "      <td>36.0</td>\n",
       "    </tr>\n",
       "    <tr>\n",
       "      <th>5656454</th>\n",
       "      <td>Zimbabwe</td>\n",
       "      <td>ZWE</td>\n",
       "      <td>Time required to start a business (days)</td>\n",
       "      <td>IC.REG.DURS</td>\n",
       "      <td>2015</td>\n",
       "      <td>90.0</td>\n",
       "    </tr>\n",
       "    <tr>\n",
       "      <th>5656455</th>\n",
       "      <td>Zimbabwe</td>\n",
       "      <td>ZWE</td>\n",
       "      <td>Time to prepare and pay taxes (hours)</td>\n",
       "      <td>IC.TAX.DURS</td>\n",
       "      <td>2015</td>\n",
       "      <td>242.0</td>\n",
       "    </tr>\n",
       "    <tr>\n",
       "      <th>5656456</th>\n",
       "      <td>Zimbabwe</td>\n",
       "      <td>ZWE</td>\n",
       "      <td>Time to resolve insolvency (years)</td>\n",
       "      <td>IC.ISV.DURS</td>\n",
       "      <td>2015</td>\n",
       "      <td>3.3</td>\n",
       "    </tr>\n",
       "    <tr>\n",
       "      <th>5656457</th>\n",
       "      <td>Zimbabwe</td>\n",
       "      <td>ZWE</td>\n",
       "      <td>Total tax rate (% of commercial profits)</td>\n",
       "      <td>IC.TAX.TOTL.CP.ZS</td>\n",
       "      <td>2015</td>\n",
       "      <td>32.8</td>\n",
       "    </tr>\n",
       "  </tbody>\n",
       "</table>\n",
       "</div>"
      ],
      "text/plain": [
       "        CountryName CountryCode                              IndicatorName  \\\n",
       "5656453    Zimbabwe         ZWE  Time required to register property (days)   \n",
       "5656454    Zimbabwe         ZWE   Time required to start a business (days)   \n",
       "5656455    Zimbabwe         ZWE      Time to prepare and pay taxes (hours)   \n",
       "5656456    Zimbabwe         ZWE         Time to resolve insolvency (years)   \n",
       "5656457    Zimbabwe         ZWE   Total tax rate (% of commercial profits)   \n",
       "\n",
       "             IndicatorCode  Year  Value  \n",
       "5656453        IC.PRP.DURS  2015   36.0  \n",
       "5656454        IC.REG.DURS  2015   90.0  \n",
       "5656455        IC.TAX.DURS  2015  242.0  \n",
       "5656456        IC.ISV.DURS  2015    3.3  \n",
       "5656457  IC.TAX.TOTL.CP.ZS  2015   32.8  "
      ]
     },
     "execution_count": 11,
     "metadata": {},
     "output_type": "execute_result"
    }
   ],
   "source": [
    "data.tail()"
   ]
  },
  {
   "cell_type": "code",
   "execution_count": 29,
   "metadata": {},
   "outputs": [
    {
     "data": {
      "text/plain": [
       "0     Adolescent fertility rate (births per 1,000 wo...\n",
       "1     Age dependency ratio (% of working-age populat...\n",
       "2     Age dependency ratio, old (% of working-age po...\n",
       "3     Age dependency ratio, young (% of working-age ...\n",
       "4           Arms exports (SIPRI trend indicator values)\n",
       "5           Arms imports (SIPRI trend indicator values)\n",
       "6                  Birth rate, crude (per 1,000 people)\n",
       "7                                    CO2 emissions (kt)\n",
       "8                CO2 emissions (metric tons per capita)\n",
       "9     CO2 emissions from gaseous fuel consumption (%...\n",
       "10    CO2 emissions from liquid fuel consumption (% ...\n",
       "11      CO2 emissions from liquid fuel consumption (kt)\n",
       "12    CO2 emissions from solid fuel consumption (% o...\n",
       "13                 Death rate, crude (per 1,000 people)\n",
       "14             Fertility rate, total (births per woman)\n",
       "15                        Fixed telephone subscriptions\n",
       "16       Fixed telephone subscriptions (per 100 people)\n",
       "17                     Hospital beds (per 1,000 people)\n",
       "18        International migrant stock (% of population)\n",
       "19                   International migrant stock, total\n",
       "20             Life expectancy at birth, female (years)\n",
       "21               Life expectancy at birth, male (years)\n",
       "22              Life expectancy at birth, total (years)\n",
       "23                    Merchandise exports (current US$)\n",
       "24    Merchandise exports by the reporting economy (...\n",
       "25    Merchandise exports by the reporting economy, ...\n",
       "26    Merchandise exports to developing economies in...\n",
       "27    Merchandise exports to developing economies in...\n",
       "28    Merchandise exports to developing economies in...\n",
       "29    Merchandise exports to developing economies in...\n",
       "30    Merchandise exports to developing economies in...\n",
       "31    Merchandise exports to developing economies ou...\n",
       "32    Merchandise exports to developing economies wi...\n",
       "33    Merchandise exports to economies in the Arab W...\n",
       "34    Merchandise exports to high-income economies (...\n",
       "35                    Merchandise imports (current US$)\n",
       "36    Merchandise imports by the reporting economy (...\n",
       "37    Merchandise imports by the reporting economy, ...\n",
       "38    Merchandise imports from developing economies ...\n",
       "39    Merchandise imports from developing economies ...\n",
       "40    Merchandise imports from developing economies ...\n",
       "41    Merchandise imports from developing economies ...\n",
       "42    Merchandise imports from developing economies ...\n",
       "43    Merchandise imports from developing economies ...\n",
       "44    Merchandise imports from developing economies ...\n",
       "45    Merchandise imports from economies in the Arab...\n",
       "46    Merchandise imports from high-income economies...\n",
       "47                         Merchandise trade (% of GDP)\n",
       "48                        Mobile cellular subscriptions\n",
       "49       Mobile cellular subscriptions (per 100 people)\n",
       "Name: IndicatorName, dtype: object"
      ]
     },
     "execution_count": 29,
     "metadata": {},
     "output_type": "execute_result"
    }
   ],
   "source": [
    "data.IndicatorName[:50]"
   ]
  },
  {
   "cell_type": "code",
   "execution_count": null,
   "metadata": {},
   "outputs": [],
   "source": []
  },
  {
   "cell_type": "code",
   "execution_count": 12,
   "metadata": {},
   "outputs": [
    {
     "data": {
      "text/html": [
       "<div>\n",
       "<style scoped>\n",
       "    .dataframe tbody tr th:only-of-type {\n",
       "        vertical-align: middle;\n",
       "    }\n",
       "\n",
       "    .dataframe tbody tr th {\n",
       "        vertical-align: top;\n",
       "    }\n",
       "\n",
       "    .dataframe thead th {\n",
       "        text-align: right;\n",
       "    }\n",
       "</style>\n",
       "<table border=\"1\" class=\"dataframe\">\n",
       "  <thead>\n",
       "    <tr style=\"text-align: right;\">\n",
       "      <th></th>\n",
       "      <th>CountryName</th>\n",
       "      <th>CountryCode</th>\n",
       "      <th>IndicatorName</th>\n",
       "      <th>IndicatorCode</th>\n",
       "      <th>Year</th>\n",
       "      <th>Value</th>\n",
       "    </tr>\n",
       "  </thead>\n",
       "  <tbody>\n",
       "    <tr>\n",
       "      <th>5377669</th>\n",
       "      <td>Arab World</td>\n",
       "      <td>ARB</td>\n",
       "      <td>Life expectancy at birth, female (years)</td>\n",
       "      <td>SP.DYN.LE00.FE.IN</td>\n",
       "      <td>2013</td>\n",
       "      <td>72.536117</td>\n",
       "    </tr>\n",
       "    <tr>\n",
       "      <th>5377670</th>\n",
       "      <td>Arab World</td>\n",
       "      <td>ARB</td>\n",
       "      <td>Life expectancy at birth, male (years)</td>\n",
       "      <td>SP.DYN.LE00.MA.IN</td>\n",
       "      <td>2013</td>\n",
       "      <td>68.848383</td>\n",
       "    </tr>\n",
       "    <tr>\n",
       "      <th>5377671</th>\n",
       "      <td>Arab World</td>\n",
       "      <td>ARB</td>\n",
       "      <td>Life expectancy at birth, total (years)</td>\n",
       "      <td>SP.DYN.LE00.IN</td>\n",
       "      <td>2013</td>\n",
       "      <td>70.631305</td>\n",
       "    </tr>\n",
       "    <tr>\n",
       "      <th>5378129</th>\n",
       "      <td>Caribbean small states</td>\n",
       "      <td>CSS</td>\n",
       "      <td>Life expectancy at birth, female (years)</td>\n",
       "      <td>SP.DYN.LE00.FE.IN</td>\n",
       "      <td>2013</td>\n",
       "      <td>74.757382</td>\n",
       "    </tr>\n",
       "    <tr>\n",
       "      <th>5378130</th>\n",
       "      <td>Caribbean small states</td>\n",
       "      <td>CSS</td>\n",
       "      <td>Life expectancy at birth, male (years)</td>\n",
       "      <td>SP.DYN.LE00.MA.IN</td>\n",
       "      <td>2013</td>\n",
       "      <td>69.183365</td>\n",
       "    </tr>\n",
       "  </tbody>\n",
       "</table>\n",
       "</div>"
      ],
      "text/plain": [
       "                    CountryName CountryCode  \\\n",
       "5377669              Arab World         ARB   \n",
       "5377670              Arab World         ARB   \n",
       "5377671              Arab World         ARB   \n",
       "5378129  Caribbean small states         CSS   \n",
       "5378130  Caribbean small states         CSS   \n",
       "\n",
       "                                    IndicatorName      IndicatorCode  Year  \\\n",
       "5377669  Life expectancy at birth, female (years)  SP.DYN.LE00.FE.IN  2013   \n",
       "5377670    Life expectancy at birth, male (years)  SP.DYN.LE00.MA.IN  2013   \n",
       "5377671   Life expectancy at birth, total (years)     SP.DYN.LE00.IN  2013   \n",
       "5378129  Life expectancy at birth, female (years)  SP.DYN.LE00.FE.IN  2013   \n",
       "5378130    Life expectancy at birth, male (years)  SP.DYN.LE00.MA.IN  2013   \n",
       "\n",
       "             Value  \n",
       "5377669  72.536117  \n",
       "5377670  68.848383  \n",
       "5377671  70.631305  \n",
       "5378129  74.757382  \n",
       "5378130  69.183365  "
      ]
     },
     "execution_count": 12,
     "metadata": {},
     "output_type": "execute_result"
    }
   ],
   "source": [
    "# select CO2 emissions for all countries in 2011\n",
    "hist_indicator =  'Life expectancy at birth'\n",
    "hist_year = 2013\n",
    "\n",
    "mask1 = data['IndicatorName'].str.contains(hist_indicator) \n",
    "mask2 = data['Year'].isin([hist_year])\n",
    "\n",
    "# apply our mask\n",
    "stage = data[mask1 & mask2]\n",
    "stage.head()\n"
   ]
  },
  {
   "cell_type": "code",
   "execution_count": 32,
   "metadata": {},
   "outputs": [
    {
     "data": {
      "text/plain": [
       "array([1960, 1961, 1962, 1963, 1964, 1965, 1966, 1967, 1968, 1969, 1970,\n",
       "       1971, 1972, 1973, 1974, 1975, 1976, 1977, 1978, 1979, 1980, 1981,\n",
       "       1982, 1983, 1984, 1985, 1986, 1987, 1988, 1989, 1990, 1991, 1992,\n",
       "       1993, 1994, 1995, 1996, 1997, 1998, 1999, 2000, 2001, 2002, 2003,\n",
       "       2004, 2005, 2006, 2007, 2008, 2009, 2010, 2011, 2012, 2013, 2014,\n",
       "       2015], dtype=int64)"
      ]
     },
     "execution_count": 32,
     "metadata": {},
     "output_type": "execute_result"
    }
   ],
   "source": [
    "data.Year.unique()"
   ]
  },
  {
   "cell_type": "code",
   "execution_count": 13,
   "metadata": {},
   "outputs": [
    {
     "data": {
      "text/html": [
       "<div>\n",
       "<style scoped>\n",
       "    .dataframe tbody tr th:only-of-type {\n",
       "        vertical-align: middle;\n",
       "    }\n",
       "\n",
       "    .dataframe tbody tr th {\n",
       "        vertical-align: top;\n",
       "    }\n",
       "\n",
       "    .dataframe thead th {\n",
       "        text-align: right;\n",
       "    }\n",
       "</style>\n",
       "<table border=\"1\" class=\"dataframe\">\n",
       "  <thead>\n",
       "    <tr style=\"text-align: right;\">\n",
       "      <th></th>\n",
       "      <th>CountryCode</th>\n",
       "      <th>Value</th>\n",
       "    </tr>\n",
       "  </thead>\n",
       "  <tbody>\n",
       "    <tr>\n",
       "      <th>5377669</th>\n",
       "      <td>ARB</td>\n",
       "      <td>72.536117</td>\n",
       "    </tr>\n",
       "    <tr>\n",
       "      <th>5377670</th>\n",
       "      <td>ARB</td>\n",
       "      <td>68.848383</td>\n",
       "    </tr>\n",
       "    <tr>\n",
       "      <th>5377671</th>\n",
       "      <td>ARB</td>\n",
       "      <td>70.631305</td>\n",
       "    </tr>\n",
       "    <tr>\n",
       "      <th>5378129</th>\n",
       "      <td>CSS</td>\n",
       "      <td>74.757382</td>\n",
       "    </tr>\n",
       "    <tr>\n",
       "      <th>5378130</th>\n",
       "      <td>CSS</td>\n",
       "      <td>69.183365</td>\n",
       "    </tr>\n",
       "  </tbody>\n",
       "</table>\n",
       "</div>"
      ],
      "text/plain": [
       "        CountryCode      Value\n",
       "5377669         ARB  72.536117\n",
       "5377670         ARB  68.848383\n",
       "5377671         ARB  70.631305\n",
       "5378129         CSS  74.757382\n",
       "5378130         CSS  69.183365"
      ]
     },
     "execution_count": 13,
     "metadata": {},
     "output_type": "execute_result"
    }
   ],
   "source": [
    "data_to_plot = stage[['CountryCode','Value']]\n",
    "data_to_plot.head()"
   ]
  },
  {
   "cell_type": "code",
   "execution_count": 14,
   "metadata": {},
   "outputs": [],
   "source": [
    "hist_indicator = stage.iloc[0]['IndicatorName']"
   ]
  },
  {
   "cell_type": "code",
   "execution_count": 15,
   "metadata": {},
   "outputs": [],
   "source": [
    "map = folium.Map(location=[100, 0], zoom_start=1.5)\n"
   ]
  },
  {
   "cell_type": "code",
   "execution_count": 16,
   "metadata": {},
   "outputs": [],
   "source": [
    "map.choropleth(geo_data=country_geo, data=data_to_plot,\n",
    "             columns=['CountryCode', 'Value'],\n",
    "             key_on='feature.id',\n",
    "             fill_color='YlGnBu', fill_opacity=0.7, line_opacity=0.2,\n",
    "             legend_name=hist_indicator)"
   ]
  },
  {
   "cell_type": "code",
   "execution_count": 17,
   "metadata": {},
   "outputs": [],
   "source": [
    "country_geo = 'world-countries.json'"
   ]
  },
  {
   "cell_type": "code",
   "execution_count": 18,
   "metadata": {},
   "outputs": [],
   "source": [
    "map.save('plot_data.html')"
   ]
  },
  {
   "cell_type": "code",
   "execution_count": 19,
   "metadata": {
    "scrolled": false
   },
   "outputs": [
    {
     "data": {
      "text/html": [
       "<iframe src=plot_data.html width=700 height=450></iframe>"
      ],
      "text/plain": [
       "<IPython.core.display.HTML object>"
      ]
     },
     "execution_count": 19,
     "metadata": {},
     "output_type": "execute_result"
    }
   ],
   "source": [
    "from IPython.display import HTML\n",
    "HTML('<iframe src=plot_data.html width=700 height=450></iframe>')"
   ]
  },
  {
   "cell_type": "code",
   "execution_count": null,
   "metadata": {},
   "outputs": [],
   "source": []
  }
 ],
 "metadata": {
  "kernelspec": {
   "display_name": "Python 3",
   "language": "python",
   "name": "python3"
  },
  "language_info": {
   "codemirror_mode": {
    "name": "ipython",
    "version": 3
   },
   "file_extension": ".py",
   "mimetype": "text/x-python",
   "name": "python",
   "nbconvert_exporter": "python",
   "pygments_lexer": "ipython3",
   "version": "3.6.5"
  }
 },
 "nbformat": 4,
 "nbformat_minor": 2
}
